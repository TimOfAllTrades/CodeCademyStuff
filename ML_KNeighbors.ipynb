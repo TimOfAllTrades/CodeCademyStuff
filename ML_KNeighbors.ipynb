{
 "cells": [
  {
   "cell_type": "code",
   "execution_count": null,
   "metadata": {},
   "outputs": [],
   "source": [
    "from sklearn.neighbors import KNeighborsClassifier\n",
    "\n",
    "classifier = KNeighborsClassifier(n_neighbors = 5)\n",
    "\n",
    "\n",
    "classifier.fit(movie_dataset, labels)\n",
    "\n",
    "unknown_points = [\n",
    "  [.45, .2, .5], [.25, .8, .9], [.1, .1, .9]\n",
    "]\n",
    "\n",
    "print(classifier.predict(unknown_points))"
   ]
  }
 ],
 "metadata": {
  "language_info": {
   "name": "python"
  }
 },
 "nbformat": 4,
 "nbformat_minor": 2
}
