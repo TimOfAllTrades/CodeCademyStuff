{
 "cells": [
  {
   "cell_type": "code",
   "execution_count": 5,
   "metadata": {},
   "outputs": [
    {
     "name": "stdout",
     "output_type": "stream",
     "text": [
      "[1. 1. 0.]\n"
     ]
    }
   ],
   "source": [
    "import csv\n",
    "from sklearn.neighbors import KNeighborsClassifier\n",
    "import numpy as np\n",
    "\n",
    "#Import movie data\n",
    "movie_dataset = np.genfromtxt(\"sampledata/moviedata.txt\",delimiter=\",\")\n",
    "\n",
    "#Import the labels\n",
    "labels = np.genfromtxt(\"sampledata/movielabels.txt\",delimiter=\",\")\n",
    "\n",
    "#Instantiate the KNeighborsClassifier object\n",
    "classifier = KNeighborsClassifier(n_neighbors = 5)\n",
    "classifier.fit(movie_dataset, labels)\n",
    "\n",
    "unknown_points = [\n",
    "  [.45, .2, .5], [.25, .8, .9], [.1, .1, .9]\n",
    "]\n",
    "\n",
    "print(classifier.predict(unknown_points))"
   ]
  }
 ],
 "metadata": {
  "kernelspec": {
   "display_name": "Python 3",
   "language": "python",
   "name": "python3"
  },
  "language_info": {
   "codemirror_mode": {
    "name": "ipython",
    "version": 3
   },
   "file_extension": ".py",
   "mimetype": "text/x-python",
   "name": "python",
   "nbconvert_exporter": "python",
   "pygments_lexer": "ipython3",
   "version": "3.12.1"
  }
 },
 "nbformat": 4,
 "nbformat_minor": 2
}
